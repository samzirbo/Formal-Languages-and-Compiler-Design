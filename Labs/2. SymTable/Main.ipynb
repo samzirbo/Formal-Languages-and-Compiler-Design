{
 "cells": [
  {
   "cell_type": "code",
   "execution_count": 4,
   "metadata": {
    "pycharm": {
     "is_executing": true
    }
   },
   "outputs": [],
   "source": [
    "from SymTable import SymTable"
   ]
  },
  {
   "cell_type": "code",
   "execution_count": 5,
   "metadata": {},
   "outputs": [
    {
     "name": "stdout",
     "output_type": "stream",
     "text": [
      "(2, 0)\n",
      "(3, 0)\n",
      "(2, 0)\n",
      "(4, 0)\n",
      "(4, 1)\n",
      "(0, 0)\n",
      "(0, 1)\n",
      "{\n",
      "   [0]: [2, c=]\n",
      "   [1]: []\n",
      "   [2]: [a]\n",
      "   [3]: [b]\n",
      "   [4]: [c, 1]\n",
      "}\n"
     ]
    }
   ],
   "source": [
    "# Example usage\n",
    "\"\"\"\n",
    "a: int\n",
    "b: int\n",
    "c: int\n",
    "a = 1\n",
    "b = 2\n",
    "c = a + b\n",
    "<< \"c=\" + c\n",
    "\"\"\"\n",
    "st = SymTable(5)\n",
    "print(st.getPosition(\"a\"))\n",
    "print(st.getPosition(\"b\"))\n",
    "print(st.getPosition(\"a\"))\n",
    "print(st.getPosition(\"c\"))\n",
    "print(st.getPosition(\"1\"))\n",
    "print(st.getPosition(\"2\"))\n",
    "print(st.getPosition(\"c=\"))\n",
    "\n",
    "print(st)"
   ]
  },
  {
   "cell_type": "code",
   "execution_count": null,
   "metadata": {},
   "outputs": [],
   "source": []
  }
 ],
 "metadata": {
  "kernelspec": {
   "display_name": "general",
   "language": "python",
   "name": "general"
  },
  "language_info": {
   "codemirror_mode": {
    "name": "ipython",
    "version": 3
   },
   "file_extension": ".py",
   "mimetype": "text/x-python",
   "name": "python",
   "nbconvert_exporter": "python",
   "pygments_lexer": "ipython3",
   "version": "3.11.6"
  }
 },
 "nbformat": 4,
 "nbformat_minor": 2
}
